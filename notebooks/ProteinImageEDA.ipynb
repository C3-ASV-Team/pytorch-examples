{
 "cells": [
  {
   "cell_type": "code",
   "execution_count": 1,
   "metadata": {},
   "outputs": [],
   "source": [
    "import matplotlib.pyplot as plt\n",
    "import os\n",
    "import numpy as np"
   ]
  },
  {
   "cell_type": "code",
   "execution_count": 2,
   "metadata": {},
   "outputs": [],
   "source": [
    "%matplotlib ipympl"
   ]
  },
  {
   "cell_type": "code",
   "execution_count": 3,
   "metadata": {},
   "outputs": [],
   "source": [
    "data_path = os.path.expandvars('$SCRATCH/kaggle/human-protein-atlas-image-classification/train')"
   ]
  },
  {
   "cell_type": "code",
   "execution_count": 4,
   "metadata": {},
   "outputs": [
    {
     "name": "stdout",
     "output_type": "stream",
     "text": [
      "00070df0-bbc3-11e8-b2bc-ac1f6b6435d0_blue.png\n",
      "00070df0-bbc3-11e8-b2bc-ac1f6b6435d0_green.png\n",
      "00070df0-bbc3-11e8-b2bc-ac1f6b6435d0_red.png\n",
      "00070df0-bbc3-11e8-b2bc-ac1f6b6435d0_yellow.png\n",
      "000a6c98-bb9b-11e8-b2b9-ac1f6b6435d0_blue.png\n",
      "000a6c98-bb9b-11e8-b2b9-ac1f6b6435d0_green.png\n",
      "000a6c98-bb9b-11e8-b2b9-ac1f6b6435d0_red.png\n",
      "000a6c98-bb9b-11e8-b2b9-ac1f6b6435d0_yellow.png\n",
      "000a9596-bbc4-11e8-b2bc-ac1f6b6435d0_blue.png\n",
      "000a9596-bbc4-11e8-b2bc-ac1f6b6435d0_green.png\n",
      "ls: write error: Broken pipe\n"
     ]
    }
   ],
   "source": [
    "!ls $data_path | head"
   ]
  },
  {
   "cell_type": "code",
   "execution_count": 5,
   "metadata": {},
   "outputs": [],
   "source": [
    "file_base = os.path.join(data_path, '000a6c98-bb9b-11e8-b2b9-ac1f6b6435d0')"
   ]
  },
  {
   "cell_type": "code",
   "execution_count": 6,
   "metadata": {},
   "outputs": [
    {
     "data": {
      "application/vnd.jupyter.widget-view+json": {
       "model_id": "3643246849fb42558f6c8d3887715228",
       "version_major": 2,
       "version_minor": 0
      },
      "text/plain": [
       "FigureCanvasNbAgg()"
      ]
     },
     "metadata": {},
     "output_type": "display_data"
    }
   ],
   "source": [
    "fig, axs = plt.subplots(1, 4, figsize=(9,3))\n",
    "suffixes = ['green', 'red', 'blue', 'yellow']\n",
    "cmaps = ['Greens', 'Reds', 'Blues', 'Oranges']\n",
    "\n",
    "for ax, suf, cmap in zip(axs, suffixes, cmaps):\n",
    "    imfile = file_base + '_%s.png' % suf\n",
    "    x = plt.imread(imfile)\n",
    "    ax.imshow(x, cmap=cmap)\n",
    "\n",
    "plt.tight_layout()"
   ]
  }
 ],
 "metadata": {
  "kernelspec": {
   "display_name": "Python [conda env:3.6-anaconda-5.2]",
   "language": "python",
   "name": "conda-env-3.6-anaconda-5.2-py"
  },
  "language_info": {
   "codemirror_mode": {
    "name": "ipython",
    "version": 3
   },
   "file_extension": ".py",
   "mimetype": "text/x-python",
   "name": "python",
   "nbconvert_exporter": "python",
   "pygments_lexer": "ipython3",
   "version": "3.6.5"
  }
 },
 "nbformat": 4,
 "nbformat_minor": 2
}
